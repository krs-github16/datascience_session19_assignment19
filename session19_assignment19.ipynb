{
 "cells": [
  {
   "cell_type": "markdown",
   "metadata": {},
   "source": [
    "# 1. What are the three stages to build the hypotheses or model in machine learning?\n",
    "\n",
    "a)      Model building\n",
    "b)      Model testing\n",
    "c)      Applying the model\n",
    "\n",
    "# 2. What is the standard approach to supervised learning?\n",
    "\n",
    "The standard approach to supervised learning is to split the set of example into the training set and the test. Generally done in ratio 0f 70:30\n",
    "\n",
    "# 3. What is Training set and Test set?\n",
    "\n",
    "# Training Set vs. Test Set\n",
    "\n",
    "#### What is a Training Set?\n",
    "\n",
    "In machine learning, a training set is a dataset used to train a model.  In training the model, specific features are picked out from the training set.  These features are then incorporated into the model. Thereby, if the training set is labeled correctly, the model should be able to learn something from these features.\n",
    "\n",
    "#### What is a Test Set?\n",
    "\n",
    "The test set is a dataset used to measure how well the model performs at making predictions on that test set. If the prediction scores for the test set are unreasonable, we’ll need to make some adjustments to our model and try again.\n",
    "\n",
    "#### But why not just use the data from the training set to test the performance of our model?\n",
    "The issue here is that our test would yield misleading results if we test our model with the training data.  The model itself was created by learning from the training set, so it will likely do quite well at making predictions on the training set itself- it knows this data too well.  We need to test the model with a test set, i.e. a dataset the model hasn’t seen before.\n",
    "\n",
    "\n",
    "\n",
    "# 4. What is the general principle of an ensemble method and what is bagging and boosting in ensemble method?\n",
    "\n",
    "he general principle of an ensemble method is to combine the predictions of several models built with a given learning algorithm in order to improve robustness over a single model.  Bagging is a method in ensemble for improving unstable estimation or classification schemes.  While boosting method are used sequentially to reduce the bias of the combined model.  Boosting and Bagging both can reduce errors by reducing the variance term.\n",
    "\n",
    "# 5. How can you avoid overfitting ?\n",
    "\n",
    "By using a lot of data overfitting can be avoided, overfitting happens relatively as you have a small dataset, and you try to learn from it. But if you have a small database and you are forced to come with a model based on that. In such situation, you can use a technique known as cross validation. In this method the dataset splits into two section, testing and training datasets, the testing dataset will only test the model while, in training dataset, the datapoints will come up with the model.\n",
    "In this technique,  a model is usually given a dataset of a known data on which training (training data set) is run and a dataset of unknown data against which the model is tested. The idea of cross validation is to define a dataset to “test” the model in the training phase."
   ]
  },
  {
   "cell_type": "code",
   "execution_count": null,
   "metadata": {},
   "outputs": [],
   "source": []
  }
 ],
 "metadata": {
  "kernelspec": {
   "display_name": "Python 3",
   "language": "python",
   "name": "python3"
  },
  "language_info": {
   "codemirror_mode": {
    "name": "ipython",
    "version": 3
   },
   "file_extension": ".py",
   "mimetype": "text/x-python",
   "name": "python",
   "nbconvert_exporter": "python",
   "pygments_lexer": "ipython3",
   "version": "3.6.5"
  }
 },
 "nbformat": 4,
 "nbformat_minor": 2
}
